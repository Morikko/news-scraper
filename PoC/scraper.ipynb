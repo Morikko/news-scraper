{
 "cells": [
  {
   "cell_type": "markdown",
   "metadata": {},
   "source": [
    "# Scraper"
   ]
  },
  {
   "cell_type": "code",
   "execution_count": 2,
   "metadata": {},
   "outputs": [],
   "source": [
    "import bs4\n",
    "import urllib.request"
   ]
  },
  {
   "cell_type": "markdown",
   "metadata": {},
   "source": [
    "## Le Monde main page\n",
    "\n",
    "Get the main page in order to get all the article links. "
   ]
  },
  {
   "cell_type": "code",
   "execution_count": 3,
   "metadata": {},
   "outputs": [],
   "source": [
    "lemonde = bs4.BeautifulSoup( urllib.request.urlopen(\"http://www.lemonde.fr/\").read(), \"lxml\")"
   ]
  },
  {
   "cell_type": "code",
   "execution_count": 4,
   "metadata": {},
   "outputs": [
    {
     "data": {
      "text/plain": [
       "160"
      ]
     },
     "execution_count": 4,
     "metadata": {},
     "output_type": "execute_result"
    }
   ],
   "source": [
    "links = []\n",
    "for a in lemonde('a'):\n",
    "    # Avoid subscribed edition and take only article links\n",
    "    if len(a('', {'class':'marqueur_restreint'})) == 0 and \"/article/\" in a['href']:\n",
    "        links.append(a['href'])\n",
    "len(links)"
   ]
  },
  {
   "cell_type": "markdown",
   "metadata": {},
   "source": [
    "## Article example\n",
    "\n",
    "Get an article and extract the useful information."
   ]
  },
  {
   "cell_type": "code",
   "execution_count": 5,
   "metadata": {},
   "outputs": [
    {
     "name": "stdout",
     "output_type": "stream",
     "text": [
      "Article: http://www.lemonde.fr/europe/article/2017/11/04/carles-puigdemont-sous-le-coup-d-un-mandat-d-arret-europeen_5210043_3214.html\n",
      "Length: 34886 characters\n"
     ]
    }
   ],
   "source": [
    "lemonde_article_url = \"http://www.lemonde.fr\" + links[0]\n",
    "article_lemonde = bs4.BeautifulSoup( urllib.request.urlopen(lemonde_article_url).read(), \"lxml\" )\n",
    "print( \"Article: %s\" % lemonde_article_url)\n",
    "print( \"Length: %d characters\" % len(article_lemonde.text))"
   ]
  },
  {
   "cell_type": "markdown",
   "metadata": {},
   "source": [
    "### Useful information\n",
    "\n",
    "After a study of what is displayed on an article, I chose to extract those elements:\n",
    " - Title\n",
    " - Url\n",
    " - Article category\n",
    " - Writer\n",
    " - Article description\n",
    " - Publish Time\n",
    " - Update Time\n",
    " - Article content\n",
    " - Related article titles\n",
    " \n",
    "Those elements are not loaded with the main static HTML. It is necessary to make supplementary requests or/and execute javascript.\n",
    "In a first time, I won't scrape them. As, there is already enough to practice with the previous elements.\n",
    " - Comments\n",
    "     - Writer\n",
    "     - Date\n",
    "     - Content\n",
    " - \\# facebook shares"
   ]
  },
  {
   "cell_type": "code",
   "execution_count": 6,
   "metadata": {},
   "outputs": [
    {
     "name": "stdout",
     "output_type": "stream",
     "text": [
      "* Title: Catalogne : Puigdemont, sous le coup d’un mandat d’arrêt européen, disposé à être candidat\n",
      "\n",
      "* Description: \n",
      "Le président déchu de l’exécutif catalan a dit, vendredi, qu’il n’avait pas l’intention de fuir la justice et qu’il entendait se présenter aux élections régionales du 21 décembre.\n",
      "\n",
      "* Article content (cut): \n",
      "Le président démis de la Catalogne, Carles Puigdemont, est « disposé à être candidat » aux élections régionales du 21 décembre et à faire campagne depuis l’étranger, a-t-il expliqué, vendredi 3 novembre au soir, sur la chaîne belge RTBF. Au même moment, la justice espagnole lançait des mandats d’arrêt européens à son encontre et celle de quatre de ses anciens ministres régionaux, qui ont fui en Belgique.\n",
      "\n",
      "        Lire aussi :\n",
      "         \n",
      "    \n",
      "                « L’affaire Puigdemont » empoisonne la ...\n",
      "\n",
      "* First related article title: \n",
      "En Catalogne, les entrepreneurs se préparent « au cas où les choses tourneraient mal »\n"
     ]
    }
   ],
   "source": [
    "# Title\n",
    "if len( article_lemonde('h1', {'class': 'tt2'}) ) > 0:\n",
    "    title = article_lemonde('h1', {'class': 'tt2'})[0].string\n",
    "    print ( \"* Title: %s\\n\" % title)\n",
    "\n",
    "# Simple scrap\n",
    "if len( article_lemonde('', {'class':'description-article'}) ) > 0:\n",
    "    article_description = article_lemonde('', {'class':'description-article'})[0].string\n",
    "    print ( \"* Description: \\n%s\\n\" % article_description)\n",
    "\n",
    "if len( article_lemonde('div', {'id': 'articleBody'}) ) > 0:\n",
    "    article_content = article_lemonde('div', {'id': 'articleBody'})[0].text.strip()\n",
    "    limit = len(article_content) if len(article_content)<500 else 500 \n",
    "    print( \"* Article content (cut): \\n%s...\\n\" % article_content[0:500])\n",
    "\n",
    "related_articles = []\n",
    "if len( article_lemonde('aside', {'class':'bloc_base meme_sujet'}) ) > 0:\n",
    "    for art in article_lemonde('aside', {'class':'bloc_base meme_sujet'})[0]('a'):\n",
    "        related_articles.append(art.text)\n",
    "    if len( related_articles ) > 0:\n",
    "        print ( \"* First related article title: \\n%s\" % related_articles[0].strip())"
   ]
  },
  {
   "cell_type": "code",
   "execution_count": 7,
   "metadata": {},
   "outputs": [
    {
     "name": "stdout",
     "output_type": "stream",
     "text": [
      "* Category 1: europe\n",
      "* Writer: Le Monde\n",
      "* Publish time: 2017-11-04T06:35:26+01:00\n",
      "* Update time: 2017-11-04T11:08:58+01:00\n"
     ]
    }
   ],
   "source": [
    "# Category\n",
    "offset = len(\"http://www.lemonde.fr/\")-1\n",
    "slash1 = lemonde_article_url.find('/', offset)+1\n",
    "slash2 = lemonde_article_url.find('/', slash1)+1\n",
    "if ( slash1 >= 0 and slash2 >= 0):\n",
    "    category_1 = lemonde_article_url[slash1:slash2-1]\n",
    "    print ( \"* Category 1: %s\" % category_1)\n",
    "\n",
    "# Writer\n",
    "if len( article_lemonde('span', {'id': 'publisher'}) ) > 0:\n",
    "    writer = article_lemonde('span', {'id': 'publisher'})[0].string\n",
    "    print ( \"* Writer: %s\" % writer)\n",
    "\n",
    "# Date\n",
    "if len( article_lemonde('time', {'itemprop': 'datePublished'}) ) > 0:\n",
    "    publish_time = article_lemonde('time', {'itemprop': 'datePublished'})[0]['datetime']\n",
    "    print ( \"* Publish time: %s\" % publish_time)\n",
    "if len( article_lemonde('time', {'itemprop': 'dateModified'}) ) > 0:\n",
    "    update_time = article_lemonde('time', {'itemprop': 'dateModified'})[0]['datetime']\n",
    "    print ( \"* Update time: %s\" % update_time)"
   ]
  },
  {
   "cell_type": "markdown",
   "metadata": {},
   "source": [
    "### Advanced scrap [Just to see]\n",
    "\n",
    "Scrap inside of an article content and try to organize it in order to have more information like different titles and paragraphs. This method is more complex and less robust as the HTML references can easily change from article to article.\n",
    "\n",
    "In a first place, I will only focus on a simple scrap for the ranking system and don't use this one. \n",
    "\n",
    "The code below might not return all the information as the HTML references are not enough general for all articles."
   ]
  },
  {
   "cell_type": "code",
   "execution_count": 8,
   "metadata": {},
   "outputs": [
    {
     "name": "stdout",
     "output_type": "stream",
     "text": [
      "* Summary: \n",
      "Le président démis de la Catalogne, Carles Puigdemont, est « disposé à être candidat » aux élections régionales du 21 décembre et à faire campagne depuis l’étranger, a-t-il expliqué, vendredi 3 novembre au soir, sur la chaîne belge RTBF. Au même moment, la justice espagnole lançait des mandats d’arrêt européens à son encontre et celle de quatre de ses anciens ministres régionaux, qui ont fui en Belgique.\n",
      "\n",
      "* First paragraph: \n",
      "Pour chacun des prévenus, poursuivis pour « rébellion, sédition, malversation, abus de fonction et désobéissance », la juge d’instruction de l’Audience nationale, le haut tribunal chargé de l’affaire, a émis à la fois un mandat d’arrêt européen adressé au parquet fédéral belge, et un mandat de recherche internationale au cas où M. Puigdemont et ses ex-ministres quitteraient Bruxelles.\n",
      "* First inter title: \n",
      "« Internationaliser » le conflit\n"
     ]
    }
   ],
   "source": [
    "# Complete\n",
    "\n",
    "if len( article_lemonde('h2', {'class':'taille_courante'}) ) > 0:\n",
    "    article_summary = article_lemonde('h2', {'class':'taille_courante'})[0].text\n",
    "    print ( \"* Summary: \\n%s\" % article_summary)\n",
    "\n",
    "\n",
    "print()\n",
    "article_paragraphs = []\n",
    "for paragraph in article_lemonde('div', {'id':'articleBody'})[0]('p'):\n",
    "    if paragraph.get('class') is None:\n",
    "        article_paragraphs.append(paragraph.text)\n",
    "print ( \"* First paragraph: \\n%s\" % article_paragraphs[0])\n",
    "\n",
    "article_intertitres = []\n",
    "for inter in article_lemonde('h2', {'class':'intertitre'}):\n",
    "    article_intertitres.append(inter.text)\n",
    "if len( article_intertitres ) > 0:\n",
    "    print ( \"* First inter title: \\n%s\" % article_intertitres[0])"
   ]
  },
  {
   "cell_type": "code",
   "execution_count": null,
   "metadata": {},
   "outputs": [],
   "source": []
  }
 ],
 "metadata": {
  "kernelspec": {
   "display_name": "Python 3",
   "language": "python",
   "name": "python3"
  },
  "language_info": {
   "codemirror_mode": {
    "name": "ipython",
    "version": 3
   },
   "file_extension": ".py",
   "mimetype": "text/x-python",
   "name": "python",
   "nbconvert_exporter": "python",
   "pygments_lexer": "ipython3",
   "version": "3.6.2"
  }
 },
 "nbformat": 4,
 "nbformat_minor": 2
}
