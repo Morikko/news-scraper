{
 "cells": [
  {
   "cell_type": "markdown",
   "metadata": {},
   "source": [
    "# Scraper"
   ]
  },
  {
   "cell_type": "code",
   "execution_count": 3,
   "metadata": {},
   "outputs": [],
   "source": [
    "import bs4\n",
    "import urllib\n",
    "import numpy as np\n",
    "import string"
   ]
  },
  {
   "cell_type": "markdown",
   "metadata": {},
   "source": [
    "## Le Monde main page\n",
    "\n",
    "Get the main page in order to get all the article links. "
   ]
  },
  {
   "cell_type": "code",
   "execution_count": 4,
   "metadata": {},
   "outputs": [],
   "source": [
    "lemonde = bs4.BeautifulSoup( urllib.request.urlopen(\"http://www.lemonde.fr/\").read(), \"lxml\")"
   ]
  },
  {
   "cell_type": "code",
   "execution_count": 5,
   "metadata": {},
   "outputs": [],
   "source": [
    "links = []\n",
    "for a in lemonde('a'):\n",
    "    links.append(a['href'])\n",
    "links = np.array(links)"
   ]
  },
  {
   "cell_type": "code",
   "execution_count": 6,
   "metadata": {},
   "outputs": [
    {
     "data": {
      "text/plain": [
       "182"
      ]
     },
     "execution_count": 6,
     "metadata": {},
     "output_type": "execute_result"
    }
   ],
   "source": [
    "articles = []\n",
    "for l in links:\n",
    "    if \"article\" in l:\n",
    "        articles.append( l )\n",
    "articles = np.array(articles)\n",
    "articles.size"
   ]
  },
  {
   "cell_type": "markdown",
   "metadata": {},
   "source": [
    "## Article example\n",
    "\n",
    "Get an article and extract the useful information."
   ]
  },
  {
   "cell_type": "code",
   "execution_count": 27,
   "metadata": {},
   "outputs": [
    {
     "name": "stdout",
     "output_type": "stream",
     "text": [
      "Article: http://www.lemonde.fr//europe/article/2017/11/03/carles-puigdemont-veut-se-presenter-aux-elections-de-decembre_5209996_3214.html\n"
     ]
    },
    {
     "data": {
      "text/plain": [
       "33355"
      ]
     },
     "execution_count": 27,
     "metadata": {},
     "output_type": "execute_result"
    }
   ],
   "source": [
    "lemonde_article_url = \"http://www.lemonde.fr/\" + articles[0]\n",
    "article_lemonde = bs4.BeautifulSoup( urllib.request.urlopen(lemonde_article_url).read(), \"lxml\" )\n",
    "print( \"Article: %s\" % lemonde_article_url)\n",
    "len(article_lemonde.text)"
   ]
  },
  {
   "cell_type": "markdown",
   "metadata": {},
   "source": [
    "### Useful information\n",
    "\n",
    "After a study of what is displayed on an article, I chose to extract those elements:\n",
    " - Title\n",
    " - Url\n",
    "     - Category 1\n",
    "     - Category 2\n",
    " - Writer\n",
    " - Article description\n",
    " - Article summary\n",
    " - Publish Time\n",
    " - Update Time\n",
    " - Article\n",
    "     - Titles\n",
    "     - Text\n",
    " - Related article titles\n",
    " \n",
    "Those elements are not loaded with the main static HTML. It is necessary to make supplementary requests or/and execute javascript.\n",
    "In a first time, I won't scrape them. As, there is already enough to practice with the previous elements.\n",
    " - Comments\n",
    "     - Writer\n",
    "     - Date\n",
    "     - Content\n",
    " - \\# facebook shares"
   ]
  },
  {
   "cell_type": "code",
   "execution_count": 26,
   "metadata": {},
   "outputs": [
    {
     "name": "stdout",
     "output_type": "stream",
     "text": [
      "* Title: La justice espagnole lance un mandat d’arrêt contre Carles Puigdemont\n",
      "* Category 1: europe\n",
      "* Category 2: article\n",
      "* Writer: Le Monde\n",
      "* Publish time: 2017-11-03T20:07:00+01:00\n",
      "* Update time: 2017-11-03T21:10:44+01:00\n",
      "\n",
      "* Description: \n",
      "Le président de l’exécutif catalan déchu a dit, vendredi, qu’il n’avait pas l’intention de fuir la justice et qu’il entendait se présenter aux prochaines élections.\n",
      "* Summary: \n",
      "La justice espagnole a lancé, vendredi 3 novembre, un mandat d’arrêt européen contre le président catalan destitué Carles Puigdemont et contre quatre de ses « ministres » repliés en Belgique, qui ont refusé de comparaître devant elle.\n",
      "\n",
      "* First paragraph: \n",
      "Une juge d’instruction a lancé le mandat contre chacun des cinq membres du gouvernement destitué, pour « rébellion, sédition, détournement de fonds publics et désobéissance à l’autorité », a annoncé dans un communiqué le tribunal, qui a déjà incarcéré, jeudi, huit autres membres de l’ancien exécutif indépendantiste. Eric Van der Sijpt, porte-parole du parquet fédéral belge, a fait savoir que celui-ci allait « étudier » le mandat d’arrêt : « On va l’étudier, puis il sera donné à un juge d’instruction. »\n",
      "* First inter title: \n",
      "Le « gouvernement légitime de la Catalogne »\n",
      "* First related article title: \n",
      "Madrid prend le contrôle des finances de la Catalogne\n"
     ]
    }
   ],
   "source": [
    "# Title\n",
    "title = article_lemonde('h1', {'class': 'tt2'})[0].string\n",
    "print ( \"* Title: %s\" % title)\n",
    "\n",
    "# Categories\n",
    "slash1 = articles[0].index('/')+1\n",
    "slash2 = articles[0].index('/', slash1)+1\n",
    "slash3 = articles[0].index('/', slash2)\n",
    "category_1 = articles[0][slash1:slash2-1]\n",
    "category_2 = articles[0][slash2:slash3]\n",
    "print ( \"* Category 1: %s\" % category_1)\n",
    "print ( \"* Category 2: %s\" % category_2)\n",
    "\n",
    "# Writer\n",
    "writer = article_lemonde('span', {'id': 'publisher'})[0].string\n",
    "print ( \"* Writer: %s\" % writer)\n",
    "\n",
    "# Date\n",
    "publish_time = article_lemonde('time', {'itemprop': 'datePublished'})[0]['datetime']\n",
    "print ( \"* Publish time: %s\" % publish_time)\n",
    "update_time = article_lemonde('time', {'itemprop': 'dateModified'})[0]['datetime']\n",
    "print ( \"* Update time: %s\" % update_time)\n",
    "\n",
    "# Short\n",
    "\n",
    "print()\n",
    "article_description = article_lemonde('', {'class':'description-article'})[0].string\n",
    "article_summary = article_lemonde('h2', {'class':'taille_courante'})[0].text\n",
    "print ( \"* Description: \\n%s\" % article_description)\n",
    "print ( \"* Summary: \\n%s\" % article_summary)\n",
    "\n",
    "# Complete\n",
    "print()\n",
    "article_paragraphs = []\n",
    "for paragraph in article_lemonde('div', {'id':'articleBody'})[0]('p'):\n",
    "    if paragraph.get('class') is None:\n",
    "        article_paragraphs.append(paragraph.text)\n",
    "print ( \"* First paragraph: \\n%s\" % article_paragraphs[0])\n",
    "\n",
    "article_intertitres = []\n",
    "for inter in article_lemonde('h2', {'class':'intertitre'}):\n",
    "    article_intertitres.append(inter.text)\n",
    "print ( \"* First inter title: \\n%s\" % article_intertitres[0])\n",
    "\n",
    "related_articles = []\n",
    "for art in article_lemonde('aside', {'class':'bloc_base meme_sujet'})[0]('a'):\n",
    "    related_articles.append(art.text)\n",
    "print ( \"* First related article title: \\n%s\" % related_articles[0].strip())"
   ]
  },
  {
   "cell_type": "code",
   "execution_count": null,
   "metadata": {},
   "outputs": [],
   "source": []
  }
 ],
 "metadata": {
  "kernelspec": {
   "display_name": "Python 3",
   "language": "python",
   "name": "python3"
  },
  "language_info": {
   "codemirror_mode": {
    "name": "ipython",
    "version": 3
   },
   "file_extension": ".py",
   "mimetype": "text/x-python",
   "name": "python",
   "nbconvert_exporter": "python",
   "pygments_lexer": "ipython3",
   "version": "3.6.2"
  }
 },
 "nbformat": 4,
 "nbformat_minor": 2
}
