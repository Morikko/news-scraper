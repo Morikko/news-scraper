{
 "cells": [
  {
   "cell_type": "code",
   "execution_count": 1,
   "metadata": {},
   "outputs": [
    {
     "name": "stdout",
     "output_type": "stream",
     "text": [
      "/home/eric/GitGalaxy/news-scraper\n"
     ]
    }
   ],
   "source": [
    "import os\n",
    "if 'PoC' not in os.listdir(os.curdir):\n",
    "    %cd ../\n",
    "import scraper.lemonde_scraper\n",
    "import numpy as np\n",
    "from scipy.sparse import find\n",
    "feats = scraper.lemonde_scraper.loadFeaturesArticlesAsJson( \"data/features\")"
   ]
  },
  {
   "cell_type": "markdown",
   "metadata": {},
   "source": [
    "# Preprocessing\n",
    "\n",
    "## Select the data\n",
    "\n",
    "For each article gather all the text I want to search"
   ]
  },
  {
   "cell_type": "code",
   "execution_count": 2,
   "metadata": {},
   "outputs": [],
   "source": [
    "news_body = []\n",
    "for feat in feats:\n",
    "    news_body.append( feat['title'] + '\\n' + \n",
    "                      feat['article_description'] + '\\n' + \n",
    "                      feat['article_content']\n",
    "                    )"
   ]
  },
  {
   "cell_type": "markdown",
   "metadata": {},
   "source": [
    "## Transform the text to features vector\n",
    "\n",
    "The TfIdf has been selected as it is an easy and fast way to have a search engine."
   ]
  },
  {
   "cell_type": "code",
   "execution_count": 23,
   "metadata": {},
   "outputs": [],
   "source": [
    "f = open(\"ranking/fr_stop_words.txt\")\n",
    "words = f.read()\n",
    "stop_words = words.split('\\n')\n",
    "\n",
    "for i in range(len(stop_words)-1, -1, -1):\n",
    "    if stop_words[i] == \"\" or stop_words[i][0] == \"#\":\n",
    "        del stop_words[i]"
   ]
  },
  {
   "cell_type": "code",
   "execution_count": 24,
   "metadata": {},
   "outputs": [],
   "source": [
    "from sklearn.pipeline import Pipeline\n",
    "from sklearn.feature_extraction.text import TfidfTransformer\n",
    "from sklearn.feature_extraction.text import CountVectorizer\n",
    "\n",
    "text_clf = Pipeline([('vect', CountVectorizer(stop_words=stop_words)),\n",
    "                     ('tfidf', TfidfTransformer())])"
   ]
  },
  {
   "cell_type": "code",
   "execution_count": 25,
   "metadata": {},
   "outputs": [
    {
     "data": {
      "text/plain": [
       "(116, 13775)"
      ]
     },
     "execution_count": 25,
     "metadata": {},
     "output_type": "execute_result"
    }
   ],
   "source": [
    "news_body_tfidf = text_clf.fit_transform( news_body )\n",
    "news_body_tfidf.shape"
   ]
  },
  {
   "cell_type": "markdown",
   "metadata": {},
   "source": [
    "# About the data"
   ]
  },
  {
   "cell_type": "code",
   "execution_count": 11,
   "metadata": {},
   "outputs": [],
   "source": [
    "import seaborn"
   ]
  },
  {
   "cell_type": "code",
   "execution_count": 18,
   "metadata": {},
   "outputs": [
    {
     "data": {
      "text/plain": [
       "496"
      ]
     },
     "execution_count": 18,
     "metadata": {},
     "output_type": "execute_result"
    }
   ],
   "source": [
    "len(stop_words)"
   ]
  },
  {
   "cell_type": "markdown",
   "metadata": {},
   "source": [
    "# Ranking"
   ]
  },
  {
   "cell_type": "code",
   "execution_count": 26,
   "metadata": {},
   "outputs": [],
   "source": [
    "dd = text_clf.steps[0][1].get_feature_names()"
   ]
  },
  {
   "cell_type": "code",
   "execution_count": 34,
   "metadata": {},
   "outputs": [
    {
     "name": "stdout",
     "output_type": "stream",
     "text": [
      "le is a stop word.\n",
      " * L’intégrité de Facebook « plus importante que les profits », selon Mark Zuckerberg\n",
      " ----> Score: [ 0.35950176]\n",
      " * Entrée à l’université : la sélection toujours au cœur du débat\n",
      " ----> Score: [ 0.16659863]\n",
      " * La numéro deux du gouvernement espagnol présentée à tort comme la fille d’un général franquiste\n",
      " ----> Score: [ 0.15708136]\n",
      " * Catalogne : Puigdemont, sous le coup d’un mandat d’arrêt européen, disposé à être candidat\n",
      " ----> Score: [ 0.09479473]\n",
      " * La bataille continue sur la réserve parlementaire\n",
      " ----> Score: [ 0.08933527]\n",
      " * L’Assemblée vote des coupes claires dans les aides au logement\n",
      " ----> Score: [ 0.08215112]\n",
      " * Richard Ford : « Nous, Américains, avons perdu de vue la vérité »\n",
      " ----> Score: [ 0.0810098]\n",
      " * Fin de la sécu étudiante : colère et inquiétude des mutuelles\n",
      " ----> Score: [ 0.07525073]\n",
      " * Attaque à New York, Catalogne, harcèlement : les actualités à retenir cette semaine\n",
      " ----> Score: [ 0.06875084]\n",
      " * Le bonus-malus : « Une juste responsabilisation des entreprises »\n",
      " ----> Score: [ 0.06018684]\n"
     ]
    }
   ],
   "source": [
    "query = \"le gouvernement facebook\"\n",
    "# TODO: lowercase query, remove 0 score\n",
    "cumul_tfidf = np.zeros((116,1))\n",
    "\n",
    "words_to_query = []\n",
    "for w in query.split():\n",
    "    if w in dd:\n",
    "        words_to_query.append(dd.index(w))\n",
    "    elif w in stop_words:\n",
    "        print(w + \" is a stop word.\")\n",
    "    else:\n",
    "        print(w + \" doesn't appear in any article.\")\n",
    "        \n",
    "for w_index in words_to_query:\n",
    "    article_index, _, tfidf_query = find(news_body_tfidf[:, w_index])\n",
    "    for index, a_index in enumerate(article_index):\n",
    "        cumul_tfidf[a_index] = cumul_tfidf[a_index] + tfidf_query[index]\n",
    "        \n",
    "sort_articles = cumul_tfidf.argsort(axis=0)[::-1].flatten() # Descending sorting\n",
    "for i in sort_articles[0:10]:\n",
    "    print(\" * \" + feats[i]['title'])\n",
    "    print(\" ----> Score: \" + str(cumul_tfidf[i]) )"
   ]
  },
  {
   "cell_type": "code",
   "execution_count": 28,
   "metadata": {},
   "outputs": [
    {
     "data": {
      "text/plain": [
       "False"
      ]
     },
     "execution_count": 28,
     "metadata": {},
     "output_type": "execute_result"
    }
   ],
   "source": [
    "\"le\" in dd"
   ]
  },
  {
   "cell_type": "code",
   "execution_count": null,
   "metadata": {},
   "outputs": [],
   "source": []
  }
 ],
 "metadata": {
  "kernelspec": {
   "display_name": "Python 3",
   "language": "python",
   "name": "python3"
  },
  "language_info": {
   "codemirror_mode": {
    "name": "ipython",
    "version": 3
   },
   "file_extension": ".py",
   "mimetype": "text/x-python",
   "name": "python",
   "nbconvert_exporter": "python",
   "pygments_lexer": "ipython3",
   "version": "3.6.2"
  }
 },
 "nbformat": 4,
 "nbformat_minor": 2
}
