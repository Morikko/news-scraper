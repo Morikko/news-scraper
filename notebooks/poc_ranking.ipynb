{
 "cells": [
  {
   "cell_type": "code",
   "execution_count": 3,
   "metadata": {},
   "outputs": [],
   "source": [
    "import os\n",
    "if 'notebooks' not in os.listdir(os.curdir):\n",
    "    %cd ../\n",
    "import newstool.scraper as scraper\n",
    "import numpy as np\n",
    "from scipy.sparse import find\n",
    "# Need saved features\n",
    "feats = scraper.lemonde_scraper.loadFeaturesArticlesAsJson( \"data/features\")"
   ]
  },
  {
   "cell_type": "markdown",
   "metadata": {},
   "source": [
    "# Preprocessing\n",
    "\n",
    "## Select the data\n",
    "\n",
    "For each article gather all the text I want to search"
   ]
  },
  {
   "cell_type": "code",
   "execution_count": 4,
   "metadata": {},
   "outputs": [],
   "source": [
    "news_body = []\n",
    "for feat in feats:\n",
    "    news_body.append( feat['title'] + '\\n' + \n",
    "                      feat['article_description'] + '\\n' + \n",
    "                      feat['article_content']\n",
    "                    )"
   ]
  },
  {
   "cell_type": "markdown",
   "metadata": {},
   "source": [
    "## Transform the text to features vector\n",
    "\n",
    "The TfIdf has been selected as it is an easy and fast way to have a search engine."
   ]
  },
  {
   "cell_type": "code",
   "execution_count": 6,
   "metadata": {},
   "outputs": [],
   "source": [
    "f = open(\"newstool/ranking/fr_stop_words.txt\")\n",
    "words = f.read()\n",
    "stop_words = words.split('\\n')\n",
    "\n",
    "for i in range(len(stop_words)-1, -1, -1):\n",
    "    if stop_words[i] == \"\" or stop_words[i][0] == \"#\":\n",
    "        del stop_words[i]"
   ]
  },
  {
   "cell_type": "code",
   "execution_count": 7,
   "metadata": {},
   "outputs": [],
   "source": [
    "from sklearn.pipeline import Pipeline\n",
    "from sklearn.feature_extraction.text import TfidfTransformer, CountVectorizer\n",
    "\n",
    "text_clf = Pipeline([('vect', CountVectorizer(stop_words=stop_words)),\n",
    "                     ('tfidf', TfidfTransformer())])"
   ]
  },
  {
   "cell_type": "code",
   "execution_count": 8,
   "metadata": {},
   "outputs": [
    {
     "data": {
      "text/plain": [
       "(116, 13775)"
      ]
     },
     "execution_count": 8,
     "metadata": {},
     "output_type": "execute_result"
    }
   ],
   "source": [
    "news_body_tfidf = text_clf.fit_transform( news_body )\n",
    "news_body_tfidf.shape"
   ]
  },
  {
   "cell_type": "markdown",
   "metadata": {},
   "source": [
    "# About the data"
   ]
  },
  {
   "cell_type": "code",
   "execution_count": 9,
   "metadata": {},
   "outputs": [],
   "source": [
    "import seaborn as sns\n",
    "import matplotlib.pyplot as plt"
   ]
  },
  {
   "cell_type": "markdown",
   "metadata": {},
   "source": [
    "## Articles length in words"
   ]
  },
  {
   "cell_type": "code",
   "execution_count": 10,
   "metadata": {},
   "outputs": [
    {
     "name": "stdout",
     "output_type": "stream",
     "text": [
      "Number of articles with more than 2000 unique words: 6\n"
     ]
    },
    {
     "data": {
      "image/png": "[encoded data removed]",
      "text/plain": [
       "<matplotlib.figure.Figure at 0x7fa05bc7dd30>"
      ]
     },
     "metadata": {},
     "output_type": "display_data"
    }
   ],
   "source": [
    "import re\n",
    "\n",
    "words_count = []\n",
    "\n",
    "for tt in news_body:\n",
    "    words_count.append( len(re.findall(r'\\w+', tt)) )\n",
    "    \n",
    "words_count = np.array(words_count)\n",
    "\n",
    "# Set up the matplotlib figure\n",
    "f, (ax1, ax2) = plt.subplots(2, 1, figsize=(8,6))\n",
    "\n",
    "plt.suptitle(\"Article length in words\")\n",
    "\n",
    "sns.distplot(words_count, ax=ax1)\n",
    "\n",
    "sns.distplot(words_count, ax=ax2)\n",
    "ax2.set_xlim(0, 2000)\n",
    "ax2.set(xlabel=\"Words in article\")\n",
    "\n",
    "print(\"Number of articles with more than 2000 unique words: %d\" % np.sum(words_count>2000))\n",
    "\n",
    "plt.show()\n",
    "    "
   ]
  },
  {
   "cell_type": "markdown",
   "metadata": {},
   "source": [
    "## Unique words in the articles"
   ]
  },
  {
   "cell_type": "code",
   "execution_count": 11,
   "metadata": {},
   "outputs": [
    {
     "name": "stdout",
     "output_type": "stream",
     "text": [
      "* Number of unique words in the articles without stop words: 14106.\n",
      "* Number of unique words in the articles with stop words: 13775.\n",
      "* Number of words stop: 331.\n"
     ]
    }
   ],
   "source": [
    "text_clf_without = Pipeline([('vect', CountVectorizer()),\n",
    "                     ('tfidf', TfidfTransformer())])\n",
    "words_without = text_clf_without.fit_transform( news_body ).shape[1]\n",
    "print(\"* Number of unique words in the articles without stop words: %d.\" % text_clf_without.fit_transform( news_body ).shape[1])\n",
    "print(\"* Number of unique words in the articles with stop words: %d.\" % news_body_tfidf.shape[1])\n",
    "print(\"* Number of words stop: %d.\" % (words_without - news_body_tfidf.shape[1]))\n"
   ]
  },
  {
   "cell_type": "markdown",
   "metadata": {},
   "source": [
    "## Articles length in unique words"
   ]
  },
  {
   "cell_type": "code",
   "execution_count": 12,
   "metadata": {},
   "outputs": [
    {
     "name": "stdout",
     "output_type": "stream",
     "text": [
      "Number of articles with more than 1000 unique words: 1\n"
     ]
    },
    {
     "data": {
      "image/png": "[encoded data removed]",
      "text/plain": [
       "<matplotlib.figure.Figure at 0x7fa05992d438>"
      ]
     },
     "metadata": {},
     "output_type": "display_data"
    }
   ],
   "source": [
    "unique_words_count = []\n",
    "for i in range(news_body_tfidf.shape[0]):\n",
    "    unique_words_count.append( np.sum(news_body_tfidf[i, :]>0) )\n",
    "unique_words_count = np.array(unique_words_count)    \n",
    "\n",
    "ax2 = sns.distplot(unique_words_count)\n",
    "ax2.set_xlim(0, 1000)\n",
    "ax2.set(xlabel=\"Words in article\")\n",
    "\n",
    "print(\"Number of articles with more than 1000 unique words: %d\" % np.sum(unique_words_count>1000))\n",
    "\n",
    "plt.show()"
   ]
  },
  {
   "cell_type": "markdown",
   "metadata": {},
   "source": [
    "# Ranking"
   ]
  },
  {
   "cell_type": "code",
   "execution_count": 13,
   "metadata": {},
   "outputs": [],
   "source": [
    "dd = text_clf.steps[0][1].get_feature_names()"
   ]
  },
  {
   "cell_type": "code",
   "execution_count": 14,
   "metadata": {},
   "outputs": [
    {
     "name": "stdout",
     "output_type": "stream",
     "text": [
      "le is a stop word.\n",
      " * L’intégrité de Facebook « plus importante que les profits », selon Mark Zuckerberg\n",
      " ----> Score: [ 0.35950176]\n",
      " * Entrée à l’université : la sélection toujours au cœur du débat\n",
      " ----> Score: [ 0.16659863]\n",
      " * La numéro deux du gouvernement espagnol présentée à tort comme la fille d’un général franquiste\n",
      " ----> Score: [ 0.15708136]\n",
      " * Catalogne : Puigdemont, sous le coup d’un mandat d’arrêt européen, disposé à être candidat\n",
      " ----> Score: [ 0.09479473]\n",
      " * La bataille continue sur la réserve parlementaire\n",
      " ----> Score: [ 0.08933527]\n",
      " * L’Assemblée vote des coupes claires dans les aides au logement\n",
      " ----> Score: [ 0.08215112]\n",
      " * Richard Ford : « Nous, Américains, avons perdu de vue la vérité »\n",
      " ----> Score: [ 0.0810098]\n",
      " * Fin de la sécu étudiante : colère et inquiétude des mutuelles\n",
      " ----> Score: [ 0.07525073]\n",
      " * Attaque à New York, Catalogne, harcèlement : les actualités à retenir cette semaine\n",
      " ----> Score: [ 0.06875084]\n",
      " * Le bonus-malus : « Une juste responsabilisation des entreprises »\n",
      " ----> Score: [ 0.06018684]\n"
     ]
    }
   ],
   "source": [
    "query = \"le gouvernement facebook\"\n",
    "# TODO: lowercase query, remove 0 score\n",
    "cumul_tfidf = np.zeros((116,1))\n",
    "\n",
    "words_to_query = []\n",
    "for w in query.split():\n",
    "    if w in dd:\n",
    "        words_to_query.append(dd.index(w))\n",
    "    elif w in stop_words:\n",
    "        print(w + \" is a stop word.\")\n",
    "    else:\n",
    "        print(w + \" doesn't appear in any article.\")\n",
    "        \n",
    "for w_index in words_to_query:\n",
    "    article_index, _, tfidf_query = find(news_body_tfidf[:, w_index])\n",
    "    for index, a_index in enumerate(article_index):\n",
    "        cumul_tfidf[a_index] = cumul_tfidf[a_index] + tfidf_query[index]\n",
    "        \n",
    "sort_articles = cumul_tfidf.argsort(axis=0)[::-1].flatten() # Descending sorting\n",
    "for i in sort_articles[0:10]:\n",
    "    print(\" * \" + feats[i]['title'])\n",
    "    print(\" ----> Score: \" + str(cumul_tfidf[i]) )"
   ]
  },
  {
   "cell_type": "markdown",
   "metadata": {},
   "source": [
    "# Remove accent characters"
   ]
  },
  {
   "cell_type": "code",
   "execution_count": 16,
   "metadata": {},
   "outputs": [
    {
     "data": {
      "text/plain": [
       "'Eric jean-paul, aaceeeeiiouuuyYUUUAACEEEEIIO'"
      ]
     },
     "execution_count": 16,
     "metadata": {},
     "output_type": "execute_result"
    }
   ],
   "source": [
    "import unicodedata\n",
    "\n",
    "accent_str = \"Eric jean-paul, àâæçéèêëïîôœùûüÿŸÜÛÙÀÂÆÇÉÈÊËÏÎÔŒ\"\n",
    "unicodedata.normalize('NFKD', accent_str).encode('ASCII', 'ignore').decode(\"utf-8\")"
   ]
  },
  {
   "cell_type": "code",
   "execution_count": null,
   "metadata": {},
   "outputs": [],
   "source": []
  }
 ],
 "metadata": {
  "kernelspec": {
   "display_name": "Python 3",
   "language": "python",
   "name": "python3"
  },
  "language_info": {
   "codemirror_mode": {
    "name": "ipython",
    "version": 3
   },
   "file_extension": ".py",
   "mimetype": "text/x-python",
   "name": "python",
   "nbconvert_exporter": "python",
   "pygments_lexer": "ipython3",
   "version": "3.6.2"
  }
 },
 "nbformat": 4,
 "nbformat_minor": 2
}
