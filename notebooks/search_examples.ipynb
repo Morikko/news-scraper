{
 "cells": [
  {
   "cell_type": "code",
   "execution_count": 1,
   "metadata": {},
   "outputs": [
    {
     "name": "stdout",
     "output_type": "stream",
     "text": [
      "/home/eric/GitGalaxy/newsscraper\n"
     ]
    }
   ],
   "source": [
    "import os\n",
    "if 'notebooks' not in os.listdir(os.curdir):\n",
    "    %cd ../\n",
    "import newstool"
   ]
  },
  {
   "cell_type": "code",
   "execution_count": 2,
   "metadata": {},
   "outputs": [],
   "source": [
    "kr = newstool.ranking.keywords_ranking.KeywordsRanker()"
   ]
  },
  {
   "cell_type": "markdown",
   "metadata": {},
   "source": [
    "# One keyword search"
   ]
  },
  {
   "cell_type": "code",
   "execution_count": 5,
   "metadata": {},
   "outputs": [
    {
     "name": "stdout",
     "output_type": "stream",
     "text": [
      "1. L’intégrité de Facebook « plus importante que les profits », selon Mark Zuckerberg\n",
      " ----> Score: [ 0.35560611]\n",
      "Le Congrès américain enquête sur la façon dont la Russie aurait exploité le réseau social pour influencer l’opinion publique pendant la campagne présidentielle.\n",
      "\n",
      "2. La numéro deux du gouvernement espagnol présentée à tort comme la fille d’un général franquiste\n",
      " ----> Score: [ 0.09410228]\n",
      "Désignée en remplacement de Carles Puigdemont pour gouverner la Catalogne, Soraya Saenz de Santamaria est présentée par certains comme « la fille d’un général franquiste ». C’est faux.\n",
      "\n",
      "3. Kevin Spacey renvoyé de « House of Cards »\n",
      " ----> Score: [ 0.04730636]\n",
      "À la suite de plusieurs accusations de harcèlement et d’agression sexuelle, dont certaines sont venues des équipes de tournage, Netflix a annoncé le renvoi de l’acteur.\n",
      "\n"
     ]
    }
   ],
   "source": [
    "kr.search(\"facebook\", results_limit=3)"
   ]
  },
  {
   "cell_type": "code",
   "execution_count": 6,
   "metadata": {},
   "outputs": [
    {
     "name": "stdout",
     "output_type": "stream",
     "text": [
      "1. L’intégrité de Facebook « plus importante que les profits », selon Mark Zuckerberg\n",
      " ----> Score: [ 0.35560611]\n",
      "Le Congrès américain enquête sur la façon dont la Russie aurait exploité le réseau social pour influencer l’opinion publique pendant la campagne présidentielle.\n",
      "\n",
      "2. La numéro deux du gouvernement espagnol présentée à tort comme la fille d’un général franquiste\n",
      " ----> Score: [ 0.09410228]\n",
      "Désignée en remplacement de Carles Puigdemont pour gouverner la Catalogne, Soraya Saenz de Santamaria est présentée par certains comme « la fille d’un général franquiste ». C’est faux.\n",
      "\n",
      "3. Kevin Spacey renvoyé de « House of Cards »\n",
      " ----> Score: [ 0.04730636]\n",
      "À la suite de plusieurs accusations de harcèlement et d’agression sexuelle, dont certaines sont venues des équipes de tournage, Netflix a annoncé le renvoi de l’acteur.\n",
      "\n"
     ]
    }
   ],
   "source": [
    "kr.search(\"Facebook\", results_limit=3)"
   ]
  },
  {
   "cell_type": "markdown",
   "metadata": {},
   "source": [
    "## Note\n",
    "Search doesn't take in account uppercase character."
   ]
  },
  {
   "cell_type": "code",
   "execution_count": 9,
   "metadata": {},
   "outputs": [
    {
     "name": "stdout",
     "output_type": "stream",
     "text": [
      "1. Sauvetage en Méditerranée : les corps de 23 personnes repêchés\n",
      " ----> Score: [ 0.2351237]\n",
      "Selon les gardes-côtes italiens, 700 personnes environ ont été secourues vendredi au cours de six opérations distinctes.\n",
      "\n",
      "2. Polémique aux Etats-Unis sur le cadre juridique des opérations extérieures\n",
      " ----> Score: [ 0.13355758]\n",
      "La perte de quatre soldats dans une embuscade au Niger, au cours d’une opération discrète, relance à Washington un débat lancinant.\n",
      "\n",
      "3. L’Europe face au fardeau du démantèlement nucléaire\n",
      " ----> Score: [ 0.06558823]\n",
      "En Allemagne et en Italie, comme en France, la déconstruction des réacteurs s’étalera sur des décennies, produisant d’énormes volumes de déchets difficiles à gérer.\n",
      "\n"
     ]
    }
   ],
   "source": [
    "kr.search(\"opérations\", results_limit=3)"
   ]
  },
  {
   "cell_type": "code",
   "execution_count": 10,
   "metadata": {},
   "outputs": [
    {
     "name": "stdout",
     "output_type": "stream",
     "text": [
      "1. Sauvetage en Méditerranée : les corps de 23 personnes repêchés\n",
      " ----> Score: [ 0.2351237]\n",
      "Selon les gardes-côtes italiens, 700 personnes environ ont été secourues vendredi au cours de six opérations distinctes.\n",
      "\n",
      "2. Polémique aux Etats-Unis sur le cadre juridique des opérations extérieures\n",
      " ----> Score: [ 0.13355758]\n",
      "La perte de quatre soldats dans une embuscade au Niger, au cours d’une opération discrète, relance à Washington un débat lancinant.\n",
      "\n",
      "3. L’Europe face au fardeau du démantèlement nucléaire\n",
      " ----> Score: [ 0.06558823]\n",
      "En Allemagne et en Italie, comme en France, la déconstruction des réacteurs s’étalera sur des décennies, produisant d’énormes volumes de déchets difficiles à gérer.\n",
      "\n"
     ]
    }
   ],
   "source": [
    "kr.search(\"operations\", results_limit=3)"
   ]
  },
  {
   "cell_type": "markdown",
   "metadata": {},
   "source": [
    "## Note\n",
    "Search doesn't take in account accents."
   ]
  },
  {
   "cell_type": "markdown",
   "metadata": {},
   "source": [
    "## Multiple keywords search"
   ]
  },
  {
   "cell_type": "code",
   "execution_count": 21,
   "metadata": {},
   "outputs": [
    {
     "name": "stdout",
     "output_type": "stream",
     "text": [
      "1. Frédéric Taddeï : « France Télévisions, c’est un gâchis »\n",
      " ----> Score: [ 0.20412017]\n",
      "Le présentateur de « Ce soir (ou jamais !) » de 2006 à 2016, aujourd’hui sur Europe 1, estime que Delphine Ernotte, la présidente du groupe audiovisuel, tire les chaînes du service public vers le bas.\n",
      "\n",
      "2. La direction d’ESCP Europe interdit les week-ends d’intégration\n",
      " ----> Score: [ 0.13168475]\n",
      "La direction d’ESCP Europe a décidé de remplacer l’événement festif par « un séminaire ambitieux, moderne et qualitatif ».\n",
      "\n",
      "3. Menaces contre la chroniqueuse Nadia Daam : Europe 1 porte plainte\n",
      " ----> Score: [ 0.07919396]\n",
      "Un texte de soutien à la journaliste, dénonçant les attaques, les injures et les menaces dont elle est victime, a été mis en ligne vendredi par « Libération »\n",
      "\n"
     ]
    }
   ],
   "source": [
    "kr.search(\"europe\", results_limit=3, all_keywords=True)"
   ]
  },
  {
   "cell_type": "code",
   "execution_count": 15,
   "metadata": {},
   "outputs": [
    {
     "name": "stdout",
     "output_type": "stream",
     "text": [
      "No results for: europe fardeau\n"
     ]
    }
   ],
   "source": [
    "kr.search(\"europe fardeau\", results_limit=3, all_keywords=True)"
   ]
  },
  {
   "cell_type": "code",
   "execution_count": 18,
   "metadata": {},
   "outputs": [
    {
     "name": "stdout",
     "output_type": "stream",
     "text": [
      "1. La direction d’ESCP Europe interdit les week-ends d’intégration\n",
      " ----> Score: [ 0.1902942]\n",
      "La direction d’ESCP Europe a décidé de remplacer l’événement festif par « un séminaire ambitieux, moderne et qualitatif ».\n",
      "\n"
     ]
    }
   ],
   "source": [
    "kr.search(\"europe interdit\", results_limit=3, all_keywords=True)"
   ]
  },
  {
   "cell_type": "code",
   "execution_count": 19,
   "metadata": {},
   "outputs": [
    {
     "name": "stdout",
     "output_type": "stream",
     "text": [
      "1. Frédéric Taddeï : « France Télévisions, c’est un gâchis »\n",
      " ----> Score: [ 0.20412017]\n",
      "Le présentateur de « Ce soir (ou jamais !) » de 2006 à 2016, aujourd’hui sur Europe 1, estime que Delphine Ernotte, la présidente du groupe audiovisuel, tire les chaînes du service public vers le bas.\n",
      "\n",
      "2. La direction d’ESCP Europe interdit les week-ends d’intégration\n",
      " ----> Score: [ 0.1902942]\n",
      "La direction d’ESCP Europe a décidé de remplacer l’événement festif par « un séminaire ambitieux, moderne et qualitatif ».\n",
      "\n",
      "3. Menaces contre la chroniqueuse Nadia Daam : Europe 1 porte plainte\n",
      " ----> Score: [ 0.07919396]\n",
      "Un texte de soutien à la journaliste, dénonçant les attaques, les injures et les menaces dont elle est victime, a été mis en ligne vendredi par « Libération »\n",
      "\n"
     ]
    }
   ],
   "source": [
    "kr.search(\"europe interdit\", results_limit=3, all_keywords=False)"
   ]
  },
  {
   "cell_type": "markdown",
   "metadata": {},
   "source": [
    "## Note\n",
    "For [19], the second result has a better score but still not enough to be first, it show the importance of all_keywords parameter."
   ]
  }
 ],
 "metadata": {
  "kernelspec": {
   "display_name": "Python 3",
   "language": "python",
   "name": "python3"
  },
  "language_info": {
   "codemirror_mode": {
    "name": "ipython",
    "version": 3
   },
   "file_extension": ".py",
   "mimetype": "text/x-python",
   "name": "python",
   "nbconvert_exporter": "python",
   "pygments_lexer": "ipython3",
   "version": "3.6.2"
  }
 },
 "nbformat": 4,
 "nbformat_minor": 2
}
